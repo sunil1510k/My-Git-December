{
 "cells": [
  {
   "cell_type": "code",
   "execution_count": 35,
   "metadata": {},
   "outputs": [],
   "source": [
    "import re\n",
    "s=\" hello my email id is my rollno is 19BIT001\"\n"
   ]
  },
  {
   "cell_type": "code",
   "execution_count": 17,
   "metadata": {},
   "outputs": [
    {
     "name": "stdout",
     "output_type": "stream",
     "text": [
      "['hello', 'my', 'email', 'id', 'is', 'murali', 'yahoo', 'com', 'i', 'am', 'from', 'trichy']\n"
     ]
    }
   ],
   "source": [
    "email=re.findall(r\"\\b\\w+\\b\",s)\n",
    "print(email)\n"
   ]
  },
  {
   "cell_type": "code",
   "execution_count": 18,
   "metadata": {},
   "outputs": [
    {
     "name": "stdout",
     "output_type": "stream",
     "text": [
      "[]\n"
     ]
    }
   ],
   "source": [
    "email=re.findall(r\"\\b\\A\\b\",s)\n",
    "print(email)"
   ]
  },
  {
   "cell_type": "code",
   "execution_count": 38,
   "metadata": {},
   "outputs": [
    {
     "name": "stdout",
     "output_type": "stream",
     "text": [
      "['19BIT001']\n"
     ]
    }
   ],
   "source": [
    "town=re.findall(r\"\\b\\d{2}\\w+\\d{3}\\b\",s)\n",
    "print(town)"
   ]
  },
  {
   "cell_type": "code",
   "execution_count": 39,
   "metadata": {},
   "outputs": [
    {
     "name": "stdout",
     "output_type": "stream",
     "text": [
      "['19BIT001']\n"
     ]
    }
   ],
   "source": [
    "town=re.findall(r\"\\b\\d{2}\\d{3}\\b\",s)\n",
    "print(town)"
   ]
  },
  {
   "cell_type": "code",
   "execution_count": null,
   "metadata": {},
   "outputs": [],
   "source": []
  }
 ],
 "metadata": {
  "kernelspec": {
   "display_name": "Python 3",
   "language": "python",
   "name": "python3"
  },
  "language_info": {
   "codemirror_mode": {
    "name": "ipython",
    "version": 3
   },
   "file_extension": ".py",
   "mimetype": "text/x-python",
   "name": "python",
   "nbconvert_exporter": "python",
   "pygments_lexer": "ipython3",
   "version": "3.7.3"
  }
 },
 "nbformat": 4,
 "nbformat_minor": 2
}
